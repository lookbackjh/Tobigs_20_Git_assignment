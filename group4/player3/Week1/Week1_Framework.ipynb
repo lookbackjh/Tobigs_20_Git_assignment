{
 "cells": [
  {
   "attachments": {},
   "cell_type": "markdown",
   "id": "1fcbf9ad",
   "metadata": {},
   "source": [
    "### 1. Library 와 Framework 의 차이 간단하게 서술하기. (100자 내외)"
   ]
  },
  {
   "cell_type": "markdown",
   "id": "2d1fb5e7",
   "metadata": {},
   "source": [
    "Framework는 일정한 구조를 가지고 있어 사용자가 정해진 방식대로 개발을 해야하는 반면 Library는 이보다 자유롭게 사용자의 필요에 따라 호출해 사용할 수 있다."
   ]
  },
  {
   "attachments": {},
   "cell_type": "markdown",
   "id": "1ab3a6f0",
   "metadata": {},
   "source": [
    "### 2. 딥러닝과 머신러닝의 관계 및 특징, 차이 간단하게 서술하기. (200자 내외)"
   ]
  },
  {
   "cell_type": "markdown",
   "id": "57448e83",
   "metadata": {},
   "source": [
    "집합의 개념으로 보면 딥러닝은 머신러닝 안에 포함된다. 두 방법 모두 기계를 학습시키는 방법론이지만, 머신러닝은 모델링 이전단계까지 사람의 개입이 많이 들어가지만, 딥러닝은 특징을 추출해주는 부분부터 신경망을 통해 모델이 학습한다는 차이점이 있다. 물론 개념적으로는 이렇지만, 아직까지는 딥러닝 학습에도 사람의 개입이 많이 필요하다."
   ]
  }
 ],
 "metadata": {
  "kernelspec": {
   "display_name": "Python 3",
   "language": "python",
   "name": "python3"
  },
  "language_info": {
   "codemirror_mode": {
    "name": "ipython",
    "version": 3
   },
   "file_extension": ".py",
   "mimetype": "text/x-python",
   "name": "python",
   "nbconvert_exporter": "python",
   "pygments_lexer": "ipython3",
   "version": "3.7.13"
  }
 },
 "nbformat": 4,
 "nbformat_minor": 5
}
